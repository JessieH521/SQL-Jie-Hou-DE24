{
 "cells": [
  {
   "cell_type": "markdown",
   "metadata": {},
   "source": [
    "# Connect to Database"
   ]
  },
  {
   "cell_type": "code",
   "execution_count": 24,
   "metadata": {},
   "outputs": [
    {
     "data": {
      "text/html": [
       "<div>\n",
       "<style scoped>\n",
       "    .dataframe tbody tr th:only-of-type {\n",
       "        vertical-align: middle;\n",
       "    }\n",
       "\n",
       "    .dataframe tbody tr th {\n",
       "        vertical-align: top;\n",
       "    }\n",
       "\n",
       "    .dataframe thead th {\n",
       "        text-align: right;\n",
       "    }\n",
       "</style>\n",
       "<table border=\"1\" class=\"dataframe\">\n",
       "  <thead>\n",
       "    <tr style=\"text-align: right;\">\n",
       "      <th></th>\n",
       "      <th>Förvaltning</th>\n",
       "      <th>Leverantör</th>\n",
       "      <th>Organisationsnummer</th>\n",
       "      <th>Verifikationsnummer</th>\n",
       "      <th>Konto</th>\n",
       "      <th>Kontotext</th>\n",
       "      <th>Belopp exkl moms</th>\n",
       "    </tr>\n",
       "  </thead>\n",
       "  <tbody>\n",
       "    <tr>\n",
       "      <th>0</th>\n",
       "      <td>Stadsmiljönämnden</td>\n",
       "      <td>TRACK TEC GMBH</td>\n",
       "      <td>106/5727/0626</td>\n",
       "      <td>4001291513</td>\n",
       "      <td>4101</td>\n",
       "      <td>Inköp anläggnings och underhållsmaterial</td>\n",
       "      <td>9 835 315,00</td>\n",
       "    </tr>\n",
       "    <tr>\n",
       "      <th>1</th>\n",
       "      <td>Kretslopp och Vatten</td>\n",
       "      <td>POLISMYNDIGHETEN I VÄSTRA GÖTALAND</td>\n",
       "      <td>2021000076</td>\n",
       "      <td>5601378982</td>\n",
       "      <td>6185</td>\n",
       "      <td>Anläggningsentreprenad</td>\n",
       "      <td>870,00</td>\n",
       "    </tr>\n",
       "    <tr>\n",
       "      <th>2</th>\n",
       "      <td>Kretslopp och Vatten</td>\n",
       "      <td>POLISMYNDIGHETEN I VÄSTRA GÖTALAND</td>\n",
       "      <td>2021000076</td>\n",
       "      <td>5601377374</td>\n",
       "      <td>6185</td>\n",
       "      <td>Anläggningsentreprenad</td>\n",
       "      <td>870,00</td>\n",
       "    </tr>\n",
       "    <tr>\n",
       "      <th>3</th>\n",
       "      <td>Kretslopp och Vatten</td>\n",
       "      <td>POLISMYNDIGHETEN I VÄSTRA GÖTALAND</td>\n",
       "      <td>2021000076</td>\n",
       "      <td>5601378519</td>\n",
       "      <td>6185</td>\n",
       "      <td>Anläggningsentreprenad</td>\n",
       "      <td>870,00</td>\n",
       "    </tr>\n",
       "    <tr>\n",
       "      <th>4</th>\n",
       "      <td>Exploateringsnämnden</td>\n",
       "      <td>POLISMYNDIGHETEN I VÄSTRA GÖTALAND</td>\n",
       "      <td>2021000076</td>\n",
       "      <td>2001226894</td>\n",
       "      <td>7641</td>\n",
       "      <td>Diverse skatter och offentliga avgifter</td>\n",
       "      <td>1 000,00</td>\n",
       "    </tr>\n",
       "  </tbody>\n",
       "</table>\n",
       "</div>"
      ],
      "text/plain": [
       "            Förvaltning                          Leverantör  \\\n",
       "0     Stadsmiljönämnden                      TRACK TEC GMBH   \n",
       "1  Kretslopp och Vatten  POLISMYNDIGHETEN I VÄSTRA GÖTALAND   \n",
       "2  Kretslopp och Vatten  POLISMYNDIGHETEN I VÄSTRA GÖTALAND   \n",
       "3  Kretslopp och Vatten  POLISMYNDIGHETEN I VÄSTRA GÖTALAND   \n",
       "4  Exploateringsnämnden  POLISMYNDIGHETEN I VÄSTRA GÖTALAND   \n",
       "\n",
       "  Organisationsnummer  Verifikationsnummer  Konto  \\\n",
       "0       106/5727/0626           4001291513   4101   \n",
       "1          2021000076           5601378982   6185   \n",
       "2          2021000076           5601377374   6185   \n",
       "3          2021000076           5601378519   6185   \n",
       "4          2021000076           2001226894   7641   \n",
       "\n",
       "                                  Kontotext Belopp exkl moms  \n",
       "0  Inköp anläggnings och underhållsmaterial     9 835 315,00  \n",
       "1                    Anläggningsentreprenad           870,00  \n",
       "2                    Anläggningsentreprenad           870,00  \n",
       "3                    Anläggningsentreprenad           870,00  \n",
       "4   Diverse skatter och offentliga avgifter         1 000,00  "
      ]
     },
     "execution_count": 24,
     "metadata": {},
     "output_type": "execute_result"
    }
   ],
   "source": [
    "from query_database import QueryDatabase\n",
    "\n",
    "df = QueryDatabase(\"SELECT * FROM supplier_invoice.invoice_202408;\").df\n",
    "# .df 表示查询结果被返回为一个 Pandas DataFrame.\n",
    "df.head()\n"
   ]
  },
  {
   "cell_type": "code",
   "execution_count": 6,
   "metadata": {},
   "outputs": [
    {
     "data": {
      "text/plain": [
       "(92989, 7)"
      ]
     },
     "execution_count": 6,
     "metadata": {},
     "output_type": "execute_result"
    }
   ],
   "source": [
    "# show how much data\n",
    "df.shape\n"
   ]
  },
  {
   "cell_type": "code",
   "execution_count": 27,
   "metadata": {},
   "outputs": [
    {
     "name": "stdout",
     "output_type": "stream",
     "text": [
      "<class 'pandas.core.frame.DataFrame'>\n",
      "RangeIndex: 92989 entries, 0 to 92988\n",
      "Data columns (total 7 columns):\n",
      " #   Column               Non-Null Count  Dtype \n",
      "---  ------               --------------  ----- \n",
      " 0   Förvaltning          92989 non-null  object\n",
      " 1   Leverantör           92989 non-null  object\n",
      " 2   Organisationsnummer  92843 non-null  object\n",
      " 3   Verifikationsnummer  92989 non-null  int64 \n",
      " 4   Konto                92989 non-null  int64 \n",
      " 5   Kontotext            92989 non-null  object\n",
      " 6   Belopp exkl moms     92989 non-null  object\n",
      "dtypes: int64(2), object(5)\n",
      "memory usage: 5.0+ MB\n"
     ]
    }
   ],
   "source": [
    "df.info()"
   ]
  },
  {
   "cell_type": "markdown",
   "metadata": {},
   "source": [
    "## clean cost column"
   ]
  },
  {
   "cell_type": "code",
   "execution_count": 28,
   "metadata": {},
   "outputs": [
    {
     "data": {
      "text/plain": [
       "0        9 835 315,00\n",
       "1              870,00\n",
       "2              870,00\n",
       "3              870,00\n",
       "4            1 000,00\n",
       "             ...     \n",
       "92984     -263 400,00\n",
       "92985      263 400,00\n",
       "92986       23 518,07\n",
       "92987       -5 879,52\n",
       "92988       45 288,75\n",
       "Name: Belopp exkl moms, Length: 92989, dtype: object"
      ]
     },
     "execution_count": 28,
     "metadata": {},
     "output_type": "execute_result"
    }
   ],
   "source": [
    "df[ \"Belopp exkl moms\"]"
   ]
  },
  {
   "cell_type": "markdown",
   "metadata": {},
   "source": []
  },
  {
   "cell_type": "code",
   "execution_count": 13,
   "metadata": {},
   "outputs": [
    {
     "data": {
      "text/html": [
       "<div>\n",
       "<style scoped>\n",
       "    .dataframe tbody tr th:only-of-type {\n",
       "        vertical-align: middle;\n",
       "    }\n",
       "\n",
       "    .dataframe tbody tr th {\n",
       "        vertical-align: top;\n",
       "    }\n",
       "\n",
       "    .dataframe thead th {\n",
       "        text-align: right;\n",
       "    }\n",
       "</style>\n",
       "<table border=\"1\" class=\"dataframe\">\n",
       "  <thead>\n",
       "    <tr style=\"text-align: right;\">\n",
       "      <th></th>\n",
       "      <th>Förvaltning</th>\n",
       "      <th>Leverantör</th>\n",
       "      <th>Organisationsnummer</th>\n",
       "      <th>Verifikationsnummer</th>\n",
       "      <th>Konto</th>\n",
       "      <th>Kontotext</th>\n",
       "      <th>Belopp exkl moms</th>\n",
       "    </tr>\n",
       "  </thead>\n",
       "  <tbody>\n",
       "    <tr>\n",
       "      <th>0</th>\n",
       "      <td>Stadsmiljönämnden</td>\n",
       "      <td>TRACK TEC GMBH</td>\n",
       "      <td>106/5727/0626</td>\n",
       "      <td>4001291513</td>\n",
       "      <td>4101</td>\n",
       "      <td>Inköp anläggnings och underhållsmaterial</td>\n",
       "      <td>9835315</td>\n",
       "    </tr>\n",
       "    <tr>\n",
       "      <th>1</th>\n",
       "      <td>Kretslopp och Vatten</td>\n",
       "      <td>POLISMYNDIGHETEN I VÄSTRA GÖTALAND</td>\n",
       "      <td>2021000076</td>\n",
       "      <td>5601378982</td>\n",
       "      <td>6185</td>\n",
       "      <td>Anläggningsentreprenad</td>\n",
       "      <td>870</td>\n",
       "    </tr>\n",
       "    <tr>\n",
       "      <th>2</th>\n",
       "      <td>Kretslopp och Vatten</td>\n",
       "      <td>POLISMYNDIGHETEN I VÄSTRA GÖTALAND</td>\n",
       "      <td>2021000076</td>\n",
       "      <td>5601377374</td>\n",
       "      <td>6185</td>\n",
       "      <td>Anläggningsentreprenad</td>\n",
       "      <td>870</td>\n",
       "    </tr>\n",
       "    <tr>\n",
       "      <th>3</th>\n",
       "      <td>Kretslopp och Vatten</td>\n",
       "      <td>POLISMYNDIGHETEN I VÄSTRA GÖTALAND</td>\n",
       "      <td>2021000076</td>\n",
       "      <td>5601378519</td>\n",
       "      <td>6185</td>\n",
       "      <td>Anläggningsentreprenad</td>\n",
       "      <td>870</td>\n",
       "    </tr>\n",
       "    <tr>\n",
       "      <th>4</th>\n",
       "      <td>Exploateringsnämnden</td>\n",
       "      <td>POLISMYNDIGHETEN I VÄSTRA GÖTALAND</td>\n",
       "      <td>2021000076</td>\n",
       "      <td>2001226894</td>\n",
       "      <td>7641</td>\n",
       "      <td>Diverse skatter och offentliga avgifter</td>\n",
       "      <td>1000</td>\n",
       "    </tr>\n",
       "  </tbody>\n",
       "</table>\n",
       "</div>"
      ],
      "text/plain": [
       "            Förvaltning                          Leverantör  \\\n",
       "0     Stadsmiljönämnden                      TRACK TEC GMBH   \n",
       "1  Kretslopp och Vatten  POLISMYNDIGHETEN I VÄSTRA GÖTALAND   \n",
       "2  Kretslopp och Vatten  POLISMYNDIGHETEN I VÄSTRA GÖTALAND   \n",
       "3  Kretslopp och Vatten  POLISMYNDIGHETEN I VÄSTRA GÖTALAND   \n",
       "4  Exploateringsnämnden  POLISMYNDIGHETEN I VÄSTRA GÖTALAND   \n",
       "\n",
       "  Organisationsnummer  Verifikationsnummer  Konto  \\\n",
       "0       106/5727/0626           4001291513   4101   \n",
       "1          2021000076           5601378982   6185   \n",
       "2          2021000076           5601377374   6185   \n",
       "3          2021000076           5601378519   6185   \n",
       "4          2021000076           2001226894   7641   \n",
       "\n",
       "                                  Kontotext Belopp exkl moms  \n",
       "0  Inköp anläggnings och underhållsmaterial          9835315  \n",
       "1                    Anläggningsentreprenad              870  \n",
       "2                    Anläggningsentreprenad              870  \n",
       "3                    Anläggningsentreprenad              870  \n",
       "4   Diverse skatter och offentliga avgifter             1000  "
      ]
     },
     "execution_count": 13,
     "metadata": {},
     "output_type": "execute_result"
    }
   ],
   "source": [
    "# 取 df 中 的 Belopp exkl moms 这一列， df 是 8月份表格的 DataFrame       straightforward 直截了当\n",
    "\n",
    "df.loc[:, \"Belopp exkl moms\"] = df[\"Belopp exkl moms\"].str[:-3].str.replace(\" \", \"\").astype(int)\n",
    "\n",
    "# .str[:-3] 去掉后3位, .str.replace(\" \", \"\") 去掉空格, .astype(int) 格式从 object 变成 int\n",
    "# object 类型 是 Pandas 中的通用数据类型，它通常用于存储文本数据（字符串），DataFrame 中的某一列包含混合类型的数据（如字符串、整数、浮动小数等）\n",
    "# df.loc[:, \"Belopp exkl moms\"]：把新更改的值给 「选择所有的行, Belopp exkl moms 列」\n",
    "\n",
    "df.head()"
   ]
  },
  {
   "cell_type": "code",
   "execution_count": 15,
   "metadata": {},
   "outputs": [],
   "source": [
    "from database2 import Database\n",
    "from constants import DATABASE_PATH\n",
    "\n",
    "with Database(DATABASE_PATH) as db:\n",
    "    # can use df inside of suckdb\n",
    "    db.connection.register('df', df)   # 'df' is defined name \n",
    "    # 调用了 db.connection 对象的 register 方法，注册到数据库连接中。'df' 是名称，df 是数据表（Pandas DataFrame 对象）\n",
    "\n",
    "    db.query(\"CREATE SCHEMA IF NOT EXISTS refined_layer;\")\n",
    "    db.query(f\"\"\"\n",
    "             CREATE TABLE IF NOT EXISTS refined_layer.invoice_202408\n",
    "             as select * from df;\n",
    "             \"\"\")"
   ]
  },
  {
   "cell_type": "code",
   "execution_count": 17,
   "metadata": {},
   "outputs": [
    {
     "data": {
      "text/html": [
       "<div>\n",
       "<style scoped>\n",
       "    .dataframe tbody tr th:only-of-type {\n",
       "        vertical-align: middle;\n",
       "    }\n",
       "\n",
       "    .dataframe tbody tr th {\n",
       "        vertical-align: top;\n",
       "    }\n",
       "\n",
       "    .dataframe thead th {\n",
       "        text-align: right;\n",
       "    }\n",
       "</style>\n",
       "<table border=\"1\" class=\"dataframe\">\n",
       "  <thead>\n",
       "    <tr style=\"text-align: right;\">\n",
       "      <th></th>\n",
       "      <th>Förvaltning</th>\n",
       "      <th>Leverantör</th>\n",
       "      <th>Organisationsnummer</th>\n",
       "      <th>Verifikationsnummer</th>\n",
       "      <th>Konto</th>\n",
       "      <th>Kontotext</th>\n",
       "      <th>Belopp exkl moms</th>\n",
       "    </tr>\n",
       "  </thead>\n",
       "  <tbody>\n",
       "    <tr>\n",
       "      <th>0</th>\n",
       "      <td>Stadsmiljönämnden</td>\n",
       "      <td>TRACK TEC GMBH</td>\n",
       "      <td>106/5727/0626</td>\n",
       "      <td>4001291513</td>\n",
       "      <td>4101</td>\n",
       "      <td>Inköp anläggnings och underhållsmaterial</td>\n",
       "      <td>9835315</td>\n",
       "    </tr>\n",
       "    <tr>\n",
       "      <th>1</th>\n",
       "      <td>Kretslopp och Vatten</td>\n",
       "      <td>POLISMYNDIGHETEN I VÄSTRA GÖTALAND</td>\n",
       "      <td>2021000076</td>\n",
       "      <td>5601378982</td>\n",
       "      <td>6185</td>\n",
       "      <td>Anläggningsentreprenad</td>\n",
       "      <td>870</td>\n",
       "    </tr>\n",
       "    <tr>\n",
       "      <th>2</th>\n",
       "      <td>Kretslopp och Vatten</td>\n",
       "      <td>POLISMYNDIGHETEN I VÄSTRA GÖTALAND</td>\n",
       "      <td>2021000076</td>\n",
       "      <td>5601377374</td>\n",
       "      <td>6185</td>\n",
       "      <td>Anläggningsentreprenad</td>\n",
       "      <td>870</td>\n",
       "    </tr>\n",
       "    <tr>\n",
       "      <th>3</th>\n",
       "      <td>Kretslopp och Vatten</td>\n",
       "      <td>POLISMYNDIGHETEN I VÄSTRA GÖTALAND</td>\n",
       "      <td>2021000076</td>\n",
       "      <td>5601378519</td>\n",
       "      <td>6185</td>\n",
       "      <td>Anläggningsentreprenad</td>\n",
       "      <td>870</td>\n",
       "    </tr>\n",
       "    <tr>\n",
       "      <th>4</th>\n",
       "      <td>Exploateringsnämnden</td>\n",
       "      <td>POLISMYNDIGHETEN I VÄSTRA GÖTALAND</td>\n",
       "      <td>2021000076</td>\n",
       "      <td>2001226894</td>\n",
       "      <td>7641</td>\n",
       "      <td>Diverse skatter och offentliga avgifter</td>\n",
       "      <td>1000</td>\n",
       "    </tr>\n",
       "  </tbody>\n",
       "</table>\n",
       "</div>"
      ],
      "text/plain": [
       "            Förvaltning                          Leverantör  \\\n",
       "0     Stadsmiljönämnden                      TRACK TEC GMBH   \n",
       "1  Kretslopp och Vatten  POLISMYNDIGHETEN I VÄSTRA GÖTALAND   \n",
       "2  Kretslopp och Vatten  POLISMYNDIGHETEN I VÄSTRA GÖTALAND   \n",
       "3  Kretslopp och Vatten  POLISMYNDIGHETEN I VÄSTRA GÖTALAND   \n",
       "4  Exploateringsnämnden  POLISMYNDIGHETEN I VÄSTRA GÖTALAND   \n",
       "\n",
       "  Organisationsnummer  Verifikationsnummer  Konto  \\\n",
       "0       106/5727/0626           4001291513   4101   \n",
       "1          2021000076           5601378982   6185   \n",
       "2          2021000076           5601377374   6185   \n",
       "3          2021000076           5601378519   6185   \n",
       "4          2021000076           2001226894   7641   \n",
       "\n",
       "                                  Kontotext  Belopp exkl moms  \n",
       "0  Inköp anläggnings och underhållsmaterial           9835315  \n",
       "1                    Anläggningsentreprenad               870  \n",
       "2                    Anläggningsentreprenad               870  \n",
       "3                    Anläggningsentreprenad               870  \n",
       "4   Diverse skatter och offentliga avgifter              1000  "
      ]
     },
     "execution_count": 17,
     "metadata": {},
     "output_type": "execute_result"
    }
   ],
   "source": [
    "QueryDatabase(\"select * from refined_layer.invoice_202408;\").df.head()"
   ]
  },
  {
   "cell_type": "code",
   "execution_count": 25,
   "metadata": {},
   "outputs": [
    {
     "data": {
      "text/html": [
       "<div>\n",
       "<style scoped>\n",
       "    .dataframe tbody tr th:only-of-type {\n",
       "        vertical-align: middle;\n",
       "    }\n",
       "\n",
       "    .dataframe tbody tr th {\n",
       "        vertical-align: top;\n",
       "    }\n",
       "\n",
       "    .dataframe thead th {\n",
       "        text-align: right;\n",
       "    }\n",
       "</style>\n",
       "<table border=\"1\" class=\"dataframe\">\n",
       "  <thead>\n",
       "    <tr style=\"text-align: right;\">\n",
       "      <th></th>\n",
       "      <th>Leverantör</th>\n",
       "      <th>Summa (SEK)</th>\n",
       "    </tr>\n",
       "  </thead>\n",
       "  <tbody>\n",
       "    <tr>\n",
       "      <th>0</th>\n",
       "      <td>GÖTEBORGS STADS LEASING AB</td>\n",
       "      <td>62433766.0</td>\n",
       "    </tr>\n",
       "    <tr>\n",
       "      <th>1</th>\n",
       "      <td>KPA PENSIONSSERVICE AB</td>\n",
       "      <td>59741750.0</td>\n",
       "    </tr>\n",
       "    <tr>\n",
       "      <th>2</th>\n",
       "      <td>RÄDDNINGSTJÄNSTEN STORGÖTEBORG</td>\n",
       "      <td>55320824.0</td>\n",
       "    </tr>\n",
       "    <tr>\n",
       "      <th>3</th>\n",
       "      <td>PURAC AB</td>\n",
       "      <td>48603208.0</td>\n",
       "    </tr>\n",
       "    <tr>\n",
       "      <th>4</th>\n",
       "      <td>RENOVA</td>\n",
       "      <td>34435107.0</td>\n",
       "    </tr>\n",
       "  </tbody>\n",
       "</table>\n",
       "</div>"
      ],
      "text/plain": [
       "                       Leverantör  Summa (SEK)\n",
       "0      GÖTEBORGS STADS LEASING AB   62433766.0\n",
       "1          KPA PENSIONSSERVICE AB   59741750.0\n",
       "2  RÄDDNINGSTJÄNSTEN STORGÖTEBORG   55320824.0\n",
       "3                        PURAC AB   48603208.0\n",
       "4                          RENOVA   34435107.0"
      ]
     },
     "execution_count": 25,
     "metadata": {},
     "output_type": "execute_result"
    }
   ],
   "source": [
    "df_total_cost = QueryDatabase(\"\"\"\n",
    "              select \n",
    "                Leverantör, \n",
    "                sum(\"Belopp exkl moms\") as \"Summa (SEK)\"\n",
    "              from \n",
    "                refined_layer.invoice_202408 \n",
    "              group by \n",
    "                Leverantör\n",
    "              order by\n",
    "                \"Summa (SEK)\"\n",
    "              desc limit 10; \n",
    "              \"\"\").df\n",
    "\n",
    "df_total_cost.head()"
   ]
  },
  {
   "cell_type": "code",
   "execution_count": 26,
   "metadata": {},
   "outputs": [
    {
     "data": {
      "text/plain": [
       "<Axes: title={'center': 'Total kostnad'}, ylabel='Leverantör'>"
      ]
     },
     "execution_count": 26,
     "metadata": {},
     "output_type": "execute_result"
    },
    {
     "data": {
      "image/png": "[encoded data removed]",
      "text/plain": [
       "<Figure size 640x480 with 1 Axes>"
      ]
     },
     "metadata": {},
     "output_type": "display_data"
    }
   ],
   "source": [
    "# 使用 Pandas 数据框绘图，它基于 matplotlib，允许快速可视化数据\n",
    "# kind=\"barh\" 指定绘制的是 水平柱状图（horizontal bar chart）。\n",
    "\n",
    "df_total_cost.head().plot(kind = \"barh\", x = \"Leverantör\", y = \"Summa (SEK)\", title = \"Total kostnad\")"
   ]
  },
  {
   "cell_type": "markdown",
   "metadata": {},
   "source": [
    "这段代码是正确的。它告诉 Pandas 将 Leverantör 显示在 y 轴，而 Summa (SEK) 用作 x 轴的长度。\n",
    "\n",
    "x=\"Leverantör\" ：指定 Leverantör 列为条形图的横轴标签，即条形图中每个条形代表的类别（供应商名称）。\n",
    "y=\"Summa (SEK)\"： 指定 Summa (SEK) 列为条形的长度，即每个供应商对应的总成本。\n",
    "title=\"Total kostnad\"\n",
    "\n",
    "给图表添加标题为 “Total kostnad”（总成本）。\n",
    "\n",
    "\n",
    "-- 效果图\n",
    "横轴（条形的长度）：表示成本的数值（Summa (SEK)）。\n",
    "纵轴（条形的类别）：表示供应商的名称（Leverantör）。\n",
    "图表标题为 \"Total kostnad\"。\n",
    "\n",
    "简单的对比：\n",
    "图表类型\t          x 轴\t                y 轴\n",
    "水平柱状图 barh\t   数值（Summa）\t      分类（Leverantör）\n",
    "普通柱状图 bar\t   分类（Leverantör）\t  数值（Summa）\n",
    "\n"
   ]
  }
 ],
 "metadata": {
  "kernelspec": {
   "display_name": "base",
   "language": "python",
   "name": "python3"
  },
  "language_info": {
   "codemirror_mode": {
    "name": "ipython",
    "version": 3
   },
   "file_extension": ".py",
   "mimetype": "text/x-python",
   "name": "python",
   "nbconvert_exporter": "python",
   "pygments_lexer": "ipython3",
   "version": "3.11.5"
  }
 },
 "nbformat": 4,
 "nbformat_minor": 2
}
